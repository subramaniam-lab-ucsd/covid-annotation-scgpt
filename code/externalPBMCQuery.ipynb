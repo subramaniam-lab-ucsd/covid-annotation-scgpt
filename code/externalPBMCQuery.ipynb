{
 "cells": [
  {
   "cell_type": "markdown",
   "metadata": {},
   "source": [
    "# Finetuned Random model on Novel Query Dataset\n",
    "\n",
    "Paper: Single-Cell RNA Sequencing Reveals HIF1A as a Severity-Sensitive Immunological Scar in Circulating Monocytes of Convalescent Comorbidity-Free COVID-19 Patients\n",
    "\n",
    "Link: https://www.mdpi.com/2073-4409/13/4/300\n",
    "\n"
   ]
  },
  {
   "cell_type": "code",
   "execution_count": 1,
   "metadata": {},
   "outputs": [
    {
     "name": "stderr",
     "output_type": "stream",
     "text": [
      "/tscc/nfs/home/s5srinivasan/py39env/lib64/python3.9/site-packages/scgpt/model/model.py:21: UserWarning: flash_attn is not installed\n",
      "  warnings.warn(\"flash_attn is not installed\")\n",
      "/tscc/nfs/home/s5srinivasan/py39env/lib64/python3.9/site-packages/scgpt/model/multiomic_model.py:19: UserWarning: flash_attn is not installed\n",
      "  warnings.warn(\"flash_attn is not installed\")\n",
      "/tscc/nfs/home/s5srinivasan/py39env/lib64/python3.9/site-packages/networkx/utils/backends.py:135: RuntimeWarning: networkx backend defined more than once: nx-loopback\n",
      "  backends.update(_get_backends(\"networkx.backends\"))\n",
      "/tscc/nfs/home/s5srinivasan/py39env/lib64/python3.9/site-packages/scanpy/_settings.py:488: DeprecationWarning: `set_matplotlib_formats` is deprecated since IPython 7.23, directly use `matplotlib_inline.backend_inline.set_matplotlib_formats()`\n",
      "  IPython.display.set_matplotlib_formats(*ipython_format)\n"
     ]
    }
   ],
   "source": [
    "# %%\n",
    "import copy\n",
    "import gc\n",
    "import json\n",
    "import os\n",
    "from pathlib import Path\n",
    "import shutil\n",
    "import sys\n",
    "import time\n",
    "import traceback\n",
    "from typing import List, Tuple, Dict, Union, Optional\n",
    "import warnings\n",
    "import pandas as pd\n",
    "# from . import asyn\n",
    "import pickle\n",
    "import torch\n",
    "import anndata\n",
    "import scanpy as sc\n",
    "# import scvi\n",
    "import seaborn as sns\n",
    "import numpy as np\n",
    "import wandb\n",
    "from scipy.sparse import issparse\n",
    "import matplotlib.pyplot as plt\n",
    "from torch import nn\n",
    "from torch.nn import functional as F\n",
    "from torch.utils.data import Dataset, DataLoader\n",
    "from sklearn.model_selection import train_test_split\n",
    "from sklearn.metrics import adjusted_rand_score, normalized_mutual_info_score\n",
    "from torchtext.vocab import Vocab\n",
    "from torchtext._torchtext import (\n",
    "    Vocab as VocabPybind,\n",
    ")\n",
    "from sklearn.metrics import confusion_matrix\n",
    "\n",
    "sys.path.insert(0, \"../\")\n",
    "import scgpt as scg\n",
    "from scgpt.model import TransformerModel, AdversarialDiscriminator\n",
    "from scgpt.tokenizer import tokenize_and_pad_batch, random_mask_value\n",
    "from scgpt.loss import (\n",
    "    masked_mse_loss,\n",
    "    masked_relative_error,\n",
    "    criterion_neg_log_bernoulli,\n",
    ")\n",
    "from scgpt.tokenizer.gene_tokenizer import GeneVocab\n",
    "from scgpt.preprocess import Preprocessor\n",
    "from scgpt import SubsetsBatchSampler\n",
    "from scgpt.utils import set_seed, category_str2int, eval_scib_metrics\n",
    "sc.set_figure_params(figsize=(6, 6))\n",
    "os.environ[\"KMP_WARNINGS\"] = \"off\"\n",
    "warnings.filterwarnings('ignore')"
   ]
  },
  {
   "cell_type": "code",
   "execution_count": 18,
   "metadata": {},
   "outputs": [],
   "source": [
    "dataDir = Path(f\"/tscc/nfs/home/s5srinivasan/scratch\")\n",
    "projectDir = Path(f\"/tscc/nfs/home/s5srinivasan/scgpt-project/covid-annotation-scgpt\")\n",
    "\n",
    "externalQuery = sc.read(dataDir / \"may24_covid19.h5ad\") # May et al. query dataset\n",
    "\n",
    "modelPath = Path(f\"/tscc/nfs/home/s5srinivasan/scgpt-project/covid-annotation-scgpt/save/randomModel\") # use of random model"
   ]
  },
  {
   "cell_type": "code",
   "execution_count": 16,
   "metadata": {},
   "outputs": [
    {
     "data": {
      "text/html": [
       "<div>\n",
       "<style scoped>\n",
       "    .dataframe tbody tr th:only-of-type {\n",
       "        vertical-align: middle;\n",
       "    }\n",
       "\n",
       "    .dataframe tbody tr th {\n",
       "        vertical-align: top;\n",
       "    }\n",
       "\n",
       "    .dataframe thead th {\n",
       "        text-align: right;\n",
       "    }\n",
       "</style>\n",
       "<table border=\"1\" class=\"dataframe\">\n",
       "  <thead>\n",
       "    <tr style=\"text-align: right;\">\n",
       "      <th></th>\n",
       "      <th>gene_symbol</th>\n",
       "      <th>gene_id</th>\n",
       "    </tr>\n",
       "    <tr>\n",
       "      <th>gene_id</th>\n",
       "      <th></th>\n",
       "      <th></th>\n",
       "    </tr>\n",
       "  </thead>\n",
       "  <tbody>\n",
       "    <tr>\n",
       "      <th>ENSG00000085563</th>\n",
       "      <td>ABCB1</td>\n",
       "      <td>ENSG00000085563</td>\n",
       "    </tr>\n",
       "    <tr>\n",
       "      <th>ENSG00000103222.0.PolyA_1</th>\n",
       "      <td>ABCC1.0.PolyA_1</td>\n",
       "      <td>ENSG00000103222.0.PolyA_1</td>\n",
       "    </tr>\n",
       "    <tr>\n",
       "      <th>ENSG00000103222.0.ref</th>\n",
       "      <td>ABCC1.0.ref</td>\n",
       "      <td>ENSG00000103222.0.ref</td>\n",
       "    </tr>\n",
       "    <tr>\n",
       "      <th>ENSG00000103222.1</th>\n",
       "      <td>ABCC1.1</td>\n",
       "      <td>ENSG00000103222.1</td>\n",
       "    </tr>\n",
       "    <tr>\n",
       "      <th>ENSG00000106546</th>\n",
       "      <td>AHR</td>\n",
       "      <td>ENSG00000106546</td>\n",
       "    </tr>\n",
       "    <tr>\n",
       "      <th>...</th>\n",
       "      <td>...</td>\n",
       "      <td>...</td>\n",
       "    </tr>\n",
       "    <tr>\n",
       "      <th>ENSG00000109906</th>\n",
       "      <td>ZBTB16</td>\n",
       "      <td>ENSG00000109906</td>\n",
       "    </tr>\n",
       "    <tr>\n",
       "      <th>ENSG00000160685</th>\n",
       "      <td>ZBTB7B</td>\n",
       "      <td>ENSG00000160685</td>\n",
       "    </tr>\n",
       "    <tr>\n",
       "      <th>ENSG00000169554.0.PolyA_1</th>\n",
       "      <td>ZEB2.0.PolyA_1</td>\n",
       "      <td>ENSG00000169554.0.PolyA_1</td>\n",
       "    </tr>\n",
       "    <tr>\n",
       "      <th>ENSG00000169554.0.PolyA_2</th>\n",
       "      <td>ZEB2.0.PolyA_2</td>\n",
       "      <td>ENSG00000169554.0.PolyA_2</td>\n",
       "    </tr>\n",
       "    <tr>\n",
       "      <th>ENSG00000176083</th>\n",
       "      <td>ZNF683</td>\n",
       "      <td>ENSG00000176083</td>\n",
       "    </tr>\n",
       "  </tbody>\n",
       "</table>\n",
       "<p>365 rows × 2 columns</p>\n",
       "</div>"
      ],
      "text/plain": [
       "                               gene_symbol                    gene_id\n",
       "gene_id                                                              \n",
       "ENSG00000085563                      ABCB1            ENSG00000085563\n",
       "ENSG00000103222.0.PolyA_1  ABCC1.0.PolyA_1  ENSG00000103222.0.PolyA_1\n",
       "ENSG00000103222.0.ref          ABCC1.0.ref      ENSG00000103222.0.ref\n",
       "ENSG00000103222.1                  ABCC1.1          ENSG00000103222.1\n",
       "ENSG00000106546                        AHR            ENSG00000106546\n",
       "...                                    ...                        ...\n",
       "ENSG00000109906                     ZBTB16            ENSG00000109906\n",
       "ENSG00000160685                     ZBTB7B            ENSG00000160685\n",
       "ENSG00000169554.0.PolyA_1   ZEB2.0.PolyA_1  ENSG00000169554.0.PolyA_1\n",
       "ENSG00000169554.0.PolyA_2   ZEB2.0.PolyA_2  ENSG00000169554.0.PolyA_2\n",
       "ENSG00000176083                     ZNF683            ENSG00000176083\n",
       "\n",
       "[365 rows x 2 columns]"
      ]
     },
     "execution_count": 16,
     "metadata": {},
     "output_type": "execute_result"
    }
   ],
   "source": [
    "externalQuery.var"
   ]
  },
  {
   "cell_type": "code",
   "execution_count": 15,
   "metadata": {},
   "outputs": [
    {
     "ename": "AttributeError",
     "evalue": "'collections.OrderedDict' object has no attribute 'eval'",
     "output_type": "error",
     "traceback": [
      "\u001b[0;31m---------------------------------------------------------------------------\u001b[0m",
      "\u001b[0;31mAttributeError\u001b[0m                            Traceback (most recent call last)",
      "Cell \u001b[0;32mIn[15], line 2\u001b[0m\n\u001b[1;32m      1\u001b[0m finetunedModel \u001b[38;5;241m=\u001b[39m torch\u001b[38;5;241m.\u001b[39mload(modelPath) \u001b[38;5;66;03m# PyTorch load model\u001b[39;00m\n\u001b[0;32m----> 2\u001b[0m \u001b[43mfinetunedModel\u001b[49m\u001b[38;5;241;43m.\u001b[39;49m\u001b[43meval\u001b[49m()\n",
      "\u001b[0;31mAttributeError\u001b[0m: 'collections.OrderedDict' object has no attribute 'eval'"
     ]
    }
   ],
   "source": [
    "finetunedModel = torch.load(modelPath) # PyTorch load model\n",
    "finetunedModel.eval()"
   ]
  },
  {
   "cell_type": "markdown",
   "metadata": {},
   "source": [
    "# Reference Mapping Setup"
   ]
  },
  {
   "cell_type": "code",
   "execution_count": 23,
   "metadata": {},
   "outputs": [
    {
     "name": "stdout",
     "output_type": "stream",
     "text": [
      "scGPT - INFO - match 316/365 genes in vocabulary of size 60697.\n"
     ]
    },
    {
     "name": "stderr",
     "output_type": "stream",
     "text": [
      "Embedding cells: 100%|██████████| 1227/1227 [00:54<00:00, 22.62it/s]\n"
     ]
    }
   ],
   "source": [
    "embed_adata = scg.tasks.cell_emb.embed_data(\n",
    "    externalQuery,\n",
    "    modelPath,\n",
    "    gene_col=\"gene_symbol\",\n",
    "    batch_size=64,\n",
    ")"
   ]
  }
 ],
 "metadata": {
  "kernelspec": {
   "display_name": "Python 3 (ipykernel)",
   "language": "python",
   "name": "python3"
  },
  "language_info": {
   "codemirror_mode": {
    "name": "ipython",
    "version": 3
   },
   "file_extension": ".py",
   "mimetype": "text/x-python",
   "name": "python",
   "nbconvert_exporter": "python",
   "pygments_lexer": "ipython3",
   "version": "3.9.18"
  }
 },
 "nbformat": 4,
 "nbformat_minor": 2
}
